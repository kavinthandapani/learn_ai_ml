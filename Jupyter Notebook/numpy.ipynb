{
 "cells": [
  {
   "cell_type": "markdown",
   "id": "2f81b39a",
   "metadata": {},
   "source": [
    "NumPy - Numerical Python is a high-performance library fr numerical operations. It replaces slow nested python loops with fast, Optimized C-Based operations usings nd-arrays (N-Dimensional Array)\n",
    "\n",
    "\n",
    "Why choose ndarray over python lists? \n",
    "    * Lists are slow, memory ineffecient\n",
    "    * No vectorized math supported -> ([1, 2, 3] + 10 -> Error in python, but works in NumPy)\n",
    "    * NumPy uses contiguous Memory Blocks, Making it super fast\n",
    "\n",
    "\n",
    "Contiguous Memory Blocks:\n",
    "-------------------------\n",
    "    This means that all the elements of the array are stored in ajacent memory blocks. \n",
    "    -> Data is stored as a homogenous array (Same data type)\n",
    "    -> All elements are laid out in memory back to back which allows for effecient access and vectorized calculations. \n",
    "\n",
    "    Contiguous Memory Block is faster because it makes use of \n",
    "        -> CPPU Cache Effeciency\n",
    "        -> SIMD (Single Instruction, Multiple Data)\n",
    "        -> Vectoized Instruction\n",
    "        -> No type checking of every element in the loop (since it a homogenous array)\n",
    "        -> Effecient memory use"
   ]
  },
  {
   "cell_type": "code",
   "execution_count": null,
   "id": "2df2461b",
   "metadata": {},
   "outputs": [],
   "source": [
    "#Time difference of Python Array and Nupy Array calculation: \n",
    "\n",
    "import numpy as np\n",
    "import time\n",
    "\n",
    "# Python list square\n",
    "lst = list(range(10_000_00))\n",
    "start = time.time()\n",
    "lst_squared = [x**2 for x in lst]\n",
    "end = time.time()\n",
    "print(\"Python list time:\", end - start)\n",
    "\n",
    "# NumPy array square\n",
    "arr = np.arange(10_000_00)\n",
    "start = time.time()\n",
    "arr_squared = arr**2\n",
    "end = time.time()\n",
    "print(\"NumPy array time:\", end - start)\n"
   ]
  },
  {
   "cell_type": "markdown",
   "id": "aa2b58c0",
   "metadata": {},
   "source": [
    "In the above example: \n",
    "\n",
    "The generated list with 1000000 elements.\n",
    "When we try to square the generated 1000000 elements generated in the script.\n",
    "\n",
    "In Python List: \n",
    "-> Each element is a individual python object\n",
    "-> The interpreter has to repeatedly (fetach_object -> check_type -> do_operations -> store_result)\n",
    "\n",
    "In NumPy Array:\n",
    "-> Each element is stored in a continous block of memory\n",
    "-> The interpreter knows the data_type of the stored objects ahead of time (so it doesn't need to check the time for each element seperately)\n",
    "-> Uses C-Optimized Loops (SIMD, Vectorized Machine Code)\n",
    "-> This avoids Python's per-element overhead.\n"
   ]
  },
  {
   "cell_type": "markdown",
   "id": "bdc83277",
   "metadata": {},
   "source": [
    "==================Creating Arrays in NumPy========================\n",
    "\n",
    "There are multiple ways to create a NumPy Array\n",
    "\n",
    "1. np.array([1, 2, 3])              -> Using a Python list\n",
    "2. np.arange(start, stop, step)     -> Like range() function in Python\n",
    "3. np.linspace(start, stop, num)    -> similar to arange in numPy/Range() in Python. But, in arange()/Random() we give the number of step (i.e. the space between two points as step= argument) whereas here we give the number of points that we want in our boundary (start= & stop=)\n",
    "4. np.zeros(shape)\n",
    "5. np.full(shape)\n",
    "6. np.ones(shape)\n",
    "7. np.random                         -> Random Number arrays\n",
    "\n",
    "For Example refer the below code block. "
   ]
  },
  {
   "cell_type": "code",
   "execution_count": null,
   "id": "be7b760c",
   "metadata": {},
   "outputs": [],
   "source": [
    "a = np.array([1, 2, 3, 4, 5])\n",
    "b = np.arange(0, 10, 2)\n",
    "c = np.linspace(0, 1, 5)\n",
    "d = np.zeros((2, 3))\n",
    "e = np.ones((3, 2))\n",
    "f = np.full((2, 2), 7)\n",
    "\n",
    "print(\"a:\", a)\n",
    "print(\"b:\", b)\n",
    "print(\"c:\", c)\n",
    "print(\"d:\\n\", d)\n",
    "print(\"e:\\n\", e)\n",
    "print(\"f:\\n\", f)\n"
   ]
  },
  {
   "cell_type": "markdown",
   "id": "2402c216",
   "metadata": {},
   "source": [
    "==================NumPy Array Attributes========================\n",
    "\n",
    "There are multiple attributes to a numPy Array\n",
    "\n",
    "Example NumPy Array = arr = [[1, 2, 3], \n",
    "                             [4, 5, 6]]\n",
    "\n",
    "1. arr.shape    -> gives the shape of an array here in this case (2, 3)  | tuple of array dimensions (rows, cols, …).\n",
    "2. arr.ndim     -> gives the dimension of the array (Number of axes will be the output) in this case 2 \n",
    "3. arr.dtype    -> returns the datatype of the numpy array (All elements in an array should be same)\n",
    "4. arr.size     -> return the number of elements present in the array. here in this case (6)\n",
    "5. arr.itemsize -> self explaining (itemsize in memory)"
   ]
  },
  {
   "cell_type": "code",
   "execution_count": null,
   "id": "35025b35",
   "metadata": {},
   "outputs": [],
   "source": [
    "arr = np.array([[1, 2, 3],\n",
    "                [4, 5, 6]])\n",
    "\n",
    "print(\"Array:\\n\", arr)\n",
    "print(\"Shape:\", arr.shape)\n",
    "print(\"Dimensions:\", arr.ndim)\n",
    "print(\"Data type:\", arr.dtype)\n",
    "print(\"Number of elements:\", arr.size)\n",
    "print(\"Bytes per element:\", arr.itemsize)"
   ]
  },
  {
   "cell_type": "markdown",
   "id": "1b497894",
   "metadata": {},
   "source": [
    "========================Indexing & Slicing========================\n",
    "NumPy arrays are n-dimensional grids. Indexing/slicing rules are consistent across 1D, 2D, and higher dimensions.\n",
    "\n",
    "-> Works like Python lists but extended to higher dimensions. \n",
    "-> Syntax = arr[row_index, col_index]\n",
    "-> Indexing is Zero Based\n",
    "-> Negative Indexing Works [-1 is last element, -2 is second last element, and so on....]\n",
    "-> Slices are views (not copies) unless you explicitly .copy()  \n",
    "\n",
    "Example of views and Copy (The last statement)\n",
    "a = np.arange(10)\n",
    "b = a[2:5]\n",
    "b[0] = 999\n",
    "print(a)\n",
    "# Output will be → [  0   1 999   3   4   5   6   7   8   9]"
   ]
  },
  {
   "cell_type": "code",
   "execution_count": null,
   "id": "c2ef1089",
   "metadata": {},
   "outputs": [],
   "source": [
    "arr = np.array([[10, 20, 30, 40],\n",
    "                [50, 60, 70, 80],\n",
    "                [90, 100, 110, 120]])\n",
    "\n",
    "# Your task: predict outputs\n",
    "print(\"1:\", arr[0, 2])    #Should give zeroth row & third column   \n",
    "print(\"2:\", arr[2, -1])   #Should give third row & first from last column\n",
    "print(\"3:\\n\", arr[1:, 1:3])  # 1: -> rows 1 to end,  1:3 -> columns 1 up to 3\n",
    "print(\"4:\\n\", arr[:2, ::2])  # :2 -> first 2 rows (rows 0 and 1) , ::2 -> every second column (columns 0 and 2)\n"
   ]
  },
  {
   "cell_type": "code",
   "execution_count": null,
   "id": "3a5ae89d",
   "metadata": {},
   "outputs": [],
   "source": [
    "arr = np.array([[ 1,  2,  3,  4,  5],\n",
    "                [ 6,  7,  8,  9, 10],\n",
    "                [11, 12, 13, 14, 15],\n",
    "                [16, 17, 18, 19, 20]])\n",
    "\n",
    "print(\"A:\\n\", arr[1:3, :])  # 1:3 -> rows 1 and 2, : -> all columns\n",
    "print(\"B:\\n\", arr[:, 2:5])  # : -> all columns, 2:5 -> columns 2,3,4\n",
    "print(\"C:\\n\", arr[::2, 1::2]) # ::2 -> every second column (columns 0 and 2), 1::2 -> every second column starting from index 1 → columns 1 and 3"
   ]
  },
  {
   "cell_type": "code",
   "execution_count": null,
   "id": "43c7be25",
   "metadata": {},
   "outputs": [],
   "source": [
    "arr = np.array([[ 1,  2,  3,  4,  5],\n",
    "                [ 6,  7,  8,  9, 10],\n",
    "                [11, 12, 13, 14, 15],\n",
    "                [16, 17, 18, 19, 20],\n",
    "                [21, 22, 23, 24, 25]])\n",
    "\n",
    "print(\"Q1:\\n\", arr[-2:, 2:])   #-> [[18 19 20],[23 24 25]]\n",
    "print(\"Q2:\\n\", arr[::-1, 0:2]) #-> [[21 22],[16 17],[11 12],[ 6  7],[ 1  2]]\n",
    "print(\"Q3:\\n\", arr[1:5:2, ::2]) #-> [[ 6  8 10],[16 18 20]]\n",
    "print(\"Q4:\\n\", arr[::2, -3:]) #-> [[ 3  4  5],[13 14 15],[23 24 25]]\n"
   ]
  },
  {
   "cell_type": "markdown",
   "id": "450bdc14",
   "metadata": {},
   "source": [
    "========================Boolean Indexing========================\n",
    "\n",
    "-> Instead of slicing by positions ([1:3]), you filter the array with True/False masks.\n",
    "-> A boolean mask must have the same shape as the dimension it’s indexing.\n",
    "-> Wherever the mask is True → element is kept.\n",
    "-> Flattens results by default unless you combine with slicing.\n"
   ]
  },
  {
   "cell_type": "code",
   "execution_count": null,
   "id": "78f08749",
   "metadata": {},
   "outputs": [
    {
     "name": "stdout",
     "output_type": "stream",
     "text": [
      "[45 50 55 60 65 70 75 80]\n",
      "[20 40 60 80]\n",
      "[[45 50 55 60]\n",
      " [65 70 75 80]]\n",
      "[35 40 45 50 55 60 65]\n",
      "[30 50 70]\n"
     ]
    }
   ],
   "source": [
    "arr = np.array([[ 5, 10, 15, 20],\n",
    "                [25, 30, 35, 40],\n",
    "                [45, 50, 55, 60],\n",
    "                [65, 70, 75, 80]])\n",
    "\n",
    "print(arr[arr > 40])                #-> [45, 50, 55, 60, 65, 70, 75, 80]\n",
    "print(arr[arr % 20 == 0])           #-> [20, 40, 60, 80]\n",
    "print(arr[arr[:, 0] > 30])          #-> [45, 50, 55, 60, 65, 70, 75, 80]\n",
    "print(arr[(arr > 30) & (arr < 70)]) #-> [35, 40, 45, 50, 55, 60, 65]\n",
    "print(arr[arr[:, 1] > 25, 1])       #-> [30, 50, 70]"
   ]
  },
  {
   "cell_type": "markdown",
   "id": "807ac8ed",
   "metadata": {},
   "source": [
    "========================Boolean Indexing + Slicing (Practice)========================"
   ]
  },
  {
   "cell_type": "code",
   "execution_count": 14,
   "id": "ca69d28c",
   "metadata": {},
   "outputs": [
    {
     "name": "stdout",
     "output_type": "stream",
     "text": [
      "[21 22 23 24 25]\n",
      "[ 2  4  6  8 10 12 14]\n",
      "[[16 17 18 19 20]\n",
      " [21 22 23 24 25]]\n",
      "[15 20 25]\n"
     ]
    }
   ],
   "source": [
    "arr = np.array([[ 1,  2,  3,  4,  5],\n",
    "                [ 6,  7,  8,  9, 10],\n",
    "                [11, 12, 13, 14, 15],\n",
    "                [16, 17, 18, 19, 20],\n",
    "                [21, 22, 23, 24, 25]])\n",
    "\n",
    "print(arr[-2:, :][arr[-2:, :] > 20])      #-> [21, 22, 23, 24, 25]\n",
    "print(arr[:3, :][arr[:3, :] % 2 == 0])    #-> [2, 4, 6, 8, 10, 12, 14]\n",
    "print(arr[arr[:, -1] > 15])               #-> [[16, 17, 18, 19, 20], [21, 22, 23, 24, 25]]\n",
    "print(arr[(arr > 10) & (arr % 5 == 0)])   #-> [15 20 25]"
   ]
  },
  {
   "cell_type": "markdown",
   "id": "fe631355",
   "metadata": {},
   "source": [
    "========================Fancy Indexing========================"
   ]
  }
 ],
 "metadata": {
  "kernelspec": {
   "display_name": "base",
   "language": "python",
   "name": "python3"
  },
  "language_info": {
   "codemirror_mode": {
    "name": "ipython",
    "version": 3
   },
   "file_extension": ".py",
   "mimetype": "text/x-python",
   "name": "python",
   "nbconvert_exporter": "python",
   "pygments_lexer": "ipython3",
   "version": "3.13.5"
  }
 },
 "nbformat": 4,
 "nbformat_minor": 5
}
