{
 "cells": [
  {
   "cell_type": "code",
   "execution_count": null,
   "id": "2df2461b",
   "metadata": {},
   "outputs": [],
   "source": [
    "#Time difference of Python Array and Nupy Array calculation: \n",
    "\n",
    "import numpy as np\n",
    "import time\n",
    "\n",
    "# Python list square\n",
    "lst = list(range(10_000_00))\n",
    "start = time.time()\n",
    "lst_squared = [x**2 for x in lst]\n",
    "end = time.time()\n",
    "print(\"Python list time:\", end - start)\n",
    "\n",
    "# NumPy array square\n",
    "arr = np.arange(10_000_00)\n",
    "start = time.time()\n",
    "arr_squared = arr**2\n",
    "end = time.time()\n",
    "print(\"NumPy array time:\", end - start)\n"
   ]
  },
  {
   "cell_type": "markdown",
   "id": "aa2b58c0",
   "metadata": {},
   "source": [
    "In the above example: \n",
    "\n",
    "The generated list with 1000000 elements.\n",
    "When we try to square the generated 1000000 elements generated in the script.\n",
    "\n",
    "In Python List: \n",
    "-> Each element is a individual python object\n",
    "-> The interpreter has to repeatedly (fetach_object -> check_type -> do_operations -> store_result)\n",
    "\n",
    "In NumPy Array:\n",
    "-> Each element is stored in a continous block of memory\n",
    "-> The interpreter knows the data_type of the stored objects ahead of time (so it doesn't need to check the time for each element seperately)\n",
    "-> Uses C-Optimized Loops (SIMD, Vectorized Machine Code)\n",
    "-> This avoids Python's per-element overhead.\n"
   ]
  },
  {
   "cell_type": "markdown",
   "id": "bdc83277",
   "metadata": {},
   "source": [
    "==================Creating Arrays in NumPy========================\n",
    "\n",
    "There are multiple ways to create a NumPy Array\n",
    "\n",
    "1. np.array([1, 2, 3])              -> Using a Python list\n",
    "2. np.arange(start, stop, step)     -> Like range() function in Python\n",
    "3. np.linspace(start, stop, num)    -> similar to arange in numPy/Range() in Python. But, in arange()/Random() we give the number of step (i.e. the space between two points as step= argument) whereas here we give the number of points that we want in our boundary (start= & stop=)\n",
    "4. np.zeros(shape)\n",
    "5. np.full(shape)\n",
    "6. np.ones(shape)\n",
    "7. np.random                         -> Random Number arrays\n",
    "\n",
    "For Example refer the below code block. "
   ]
  },
  {
   "cell_type": "code",
   "execution_count": null,
   "id": "be7b760c",
   "metadata": {},
   "outputs": [],
   "source": [
    "a = np.array([1, 2, 3, 4, 5])\n",
    "b = np.arange(0, 10, 2)\n",
    "c = np.linspace(0, 1, 5)\n",
    "d = np.zeros((2, 3))\n",
    "e = np.ones((3, 2))\n",
    "f = np.full((2, 2), 7)\n",
    "\n",
    "print(\"a:\", a)\n",
    "print(\"b:\", b)\n",
    "print(\"c:\", c)\n",
    "print(\"d:\\n\", d)\n",
    "print(\"e:\\n\", e)\n",
    "print(\"f:\\n\", f)\n"
   ]
  },
  {
   "cell_type": "markdown",
   "id": "2402c216",
   "metadata": {},
   "source": [
    "==================Array Attributes========================\n",
    "\n",
    "There are multiple attributes to a numPy Array\n",
    "\n",
    "Example NumPy Array = arr = [[1, 2, 3], \n",
    "                             [4, 5, 6]]\n",
    "\n",
    "1. arr.shape    -> gives the shape of an array here in this case (2, 3)  | tuple of array dimensions (rows, cols, …).\n",
    "2. arr.ndim     -> gives the dimension of the array (Number of axes will be the output) in this case 2 \n",
    "3. arr.dtype    -> returns the datatype of the numpy array (All elements in an array should be same)\n",
    "4. arr.size     -> return the number of elements present in the array. here in this case (6)\n",
    "5. arr.itemsize -> self explaining (itemsize in memory)"
   ]
  },
  {
   "cell_type": "code",
   "execution_count": 3,
   "id": "35025b35",
   "metadata": {},
   "outputs": [
    {
     "name": "stdout",
     "output_type": "stream",
     "text": [
      "Array:\n",
      " [[1 2 3]\n",
      " [4 5 6]]\n",
      "Shape: (2, 3)\n",
      "Dimensions: 2\n",
      "Data type: int64\n",
      "Number of elements: 6\n",
      "Bytes per element: 8\n"
     ]
    }
   ],
   "source": [
    "arr = np.array([[1, 2, 3],\n",
    "                [4, 5, 6]])\n",
    "\n",
    "print(\"Array:\\n\", arr)\n",
    "print(\"Shape:\", arr.shape)\n",
    "print(\"Dimensions:\", arr.ndim)\n",
    "print(\"Data type:\", arr.dtype)\n",
    "print(\"Number of elements:\", arr.size)\n",
    "print(\"Bytes per element:\", arr.itemsize)"
   ]
  },
  {
   "cell_type": "markdown",
   "id": "1b497894",
   "metadata": {},
   "source": [
    "========================Indexing & Slicing========================\n",
    "NumPy arrays are n-dimensional grids. Indexing/slicing rules are consistent across 1D, 2D, and higher dimensions.\n",
    "\n",
    "-> Works like Python lists but extended to higher dimensions. \n",
    "-> Syntax = arr[row_index, col_index]\n",
    "-> Indexing is Zero Based\n",
    "-> Negative Indexing Works [-1 is last element, -2 is second last element, and so on....]\n",
    "-> Slices are views (not copies) unless you explicitly .copy()"
   ]
  },
  {
   "cell_type": "code",
   "execution_count": null,
   "id": "c2ef1089",
   "metadata": {},
   "outputs": [],
   "source": []
  }
 ],
 "metadata": {
  "kernelspec": {
   "display_name": "base",
   "language": "python",
   "name": "python3"
  },
  "language_info": {
   "codemirror_mode": {
    "name": "ipython",
    "version": 3
   },
   "file_extension": ".py",
   "mimetype": "text/x-python",
   "name": "python",
   "nbconvert_exporter": "python",
   "pygments_lexer": "ipython3",
   "version": "3.13.5"
  }
 },
 "nbformat": 4,
 "nbformat_minor": 5
}
