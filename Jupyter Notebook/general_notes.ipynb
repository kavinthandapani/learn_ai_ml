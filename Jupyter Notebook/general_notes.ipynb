{
 "cells": [
  {
   "cell_type": "markdown",
   "id": "1ff39896",
   "metadata": {},
   "source": [
    "1. Axes is nothing but rows and columns"
   ]
  },
  {
   "cell_type": "markdown",
   "id": "a18ac663",
   "metadata": {},
   "source": []
  }
 ],
 "metadata": {
  "language_info": {
   "name": "python"
  }
 },
 "nbformat": 4,
 "nbformat_minor": 5
}
